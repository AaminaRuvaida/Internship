{
 "cells": [
  {
   "cell_type": "markdown",
   "metadata": {},
   "source": [
    "# 11)\tWrite a python program to find the factorial of a number."
   ]
  },
  {
   "cell_type": "code",
   "execution_count": 12,
   "metadata": {},
   "outputs": [
    {
     "name": "stdout",
     "output_type": "stream",
     "text": [
      "Enter the number:5\n",
      "The factorial of  5 is: 120\n"
     ]
    }
   ],
   "source": [
    "import math\n",
    "num=int(input(\"Enter the number:\"))\n",
    "print(\"The factorial of \", num, \"is:\", math.factorial(num))"
   ]
  },
  {
   "cell_type": "markdown",
   "metadata": {},
   "source": [
    "#### Using a for loop:"
   ]
  },
  {
   "cell_type": "code",
   "execution_count": 13,
   "metadata": {},
   "outputs": [
    {
     "name": "stdout",
     "output_type": "stream",
     "text": [
      "Enter a number:7\n",
      "The Factorial of 7 is 5040\n"
     ]
    }
   ],
   "source": [
    "num = int(input(\"Enter a number:\"))\n",
    "Fact = 1\n",
    "for i in range(1, num + 1):\n",
    "    Fact = Fact * i\n",
    "print(\"The Factorial of\",num,\"is\",Fact)\n"
   ]
  },
  {
   "cell_type": "markdown",
   "metadata": {},
   "source": [
    "# 12)\tWrite a python program to find whether a number is prime or composite."
   ]
  },
  {
   "cell_type": "code",
   "execution_count": 14,
   "metadata": {},
   "outputs": [
    {
     "name": "stdout",
     "output_type": "stream",
     "text": [
      "Enter a number: 20\n",
      "20 is a composite number\n"
     ]
    }
   ],
   "source": [
    "num = int(input(\"Enter a number: \"))\n",
    "for i in range(2,num):\n",
    "    if(num % i == 0):  \n",
    "        print(\"%d is a composite number\" % num)\n",
    "        break\n",
    "    else:\n",
    "        print(\"%d is a prime number\" % num)\n",
    "        break"
   ]
  },
  {
   "cell_type": "code",
   "execution_count": 15,
   "metadata": {},
   "outputs": [
    {
     "name": "stdout",
     "output_type": "stream",
     "text": [
      "Enter a number: 73\n",
      "73 is a prime number\n"
     ]
    }
   ],
   "source": [
    "num = int(input(\"Enter a number: \"))\n",
    "for i in range(2,num):\n",
    "    if(num % i == 0):  \n",
    "        print(\"%d is a composite number\" % num)\n",
    "        break\n",
    "    else:\n",
    "        print(\"%d is a prime number\" % num)\n",
    "        break"
   ]
  },
  {
   "cell_type": "markdown",
   "metadata": {},
   "source": [
    "# 13)\tWrite a python program to check whether a given string is palindrome or not."
   ]
  },
  {
   "cell_type": "code",
   "execution_count": 16,
   "metadata": {},
   "outputs": [
    {
     "name": "stdout",
     "output_type": "stream",
     "text": [
      "Please enter a string: madam\n",
      "madam -->This is a Palindrome\n"
     ]
    }
   ],
   "source": [
    "string=input(\"Please enter a string: \")\n",
    "if (string==string[:: -1]):\n",
    "    print(string,\"-->This is a Palindrome\")\n",
    "else:\n",
    "    print(string, \"-->This is not a Palindrome\")"
   ]
  },
  {
   "cell_type": "markdown",
   "metadata": {},
   "source": [
    "# 14)\tWrite a Python program to get the third side of right-angled triangle from two given sides."
   ]
  },
  {
   "cell_type": "code",
   "execution_count": 17,
   "metadata": {},
   "outputs": [
    {
     "name": "stdout",
     "output_type": "stream",
     "text": [
      "Hypotenus= 1.1615863496415424\n",
      "Adjacent side= 6.708203932499369\n",
      "Opposite side= 6.928203230275509\n",
      "The output is mentioned above\n"
     ]
    }
   ],
   "source": [
    "def pythogoras(opposite_side,adjacent_side,hypotenus):\n",
    "    if opposite_side==str(\"x\"):\n",
    "        return (\"Opposite side= \" + str(((hypotenus**2)-(adjacent_side**2))**0.5))\n",
    "    elif adjacent_side==str(\"x\"):\n",
    "        return (\"Adjacent side= \" + str(((hypotenus**2)-(opposite_side**2))**0.5))\n",
    "    elif hypotenus==str(\"x\"):\n",
    "        return (\"Hypotenus= \" + str(((opposite_side**2)+(adjacent_side**2))**0.05))\n",
    "    else:\n",
    "        return (\"The output is mentioned above\")\n",
    "        \n",
    "print(pythogoras(2,4,'x'))\n",
    "print(pythogoras(2,'x',7))\n",
    "print(pythogoras('x',4,8))\n",
    "print(pythogoras(3,6,5))"
   ]
  },
  {
   "cell_type": "markdown",
   "metadata": {},
   "source": [
    "# 15) Write a python program to print the frequency of each of the characters present in a given string."
   ]
  },
  {
   "cell_type": "code",
   "execution_count": 18,
   "metadata": {},
   "outputs": [
    {
     "name": "stdout",
     "output_type": "stream",
     "text": [
      "Enter the string: Machine Learning\n",
      "^^^^^^^^^^^^^^^^^^^^^^^^^^^^^^^^^^^^^^^^^^^^^^^^^^^^^^^^\n",
      "Frequency of character in 'madam' is : \n",
      " Counter({'n': 3, 'a': 2, 'i': 2, 'e': 2, 'M': 1, 'c': 1, 'h': 1, ' ': 1, 'L': 1, 'r': 1, 'g': 1})\n"
     ]
    }
   ],
   "source": [
    "# Importing the Counter package\n",
    "\n",
    "from collections import Counter\n",
    "input_string=input(\"Enter the string: \")\n",
    "frequency_of_char=Counter(input_string)\n",
    "print(\"^^^^^^^^^^^^^^^^^^^^^^^^^^^^^^^^^^^^^^^^^^^^^^^^^^^^^^^^\")\n",
    "print(\"Frequency of character in '{}' is : \\n {}\" .format(string, str(frequency_of_char)))"
   ]
  },
  {
   "cell_type": "code",
   "execution_count": 19,
   "metadata": {},
   "outputs": [
    {
     "name": "stdout",
     "output_type": "stream",
     "text": [
      "Enter the string: Artificial Intelligence\n",
      "*************************************************************\n",
      "Frequency of character in 'Artificial Intelligence' is: \n",
      " {'A': 1, 'r': 1, 't': 2, 'i': 4, 'f': 1, 'c': 2, 'a': 1, 'l': 3, ' ': 1, 'I': 1, 'n': 2, 'e': 3, 'g': 1}\n"
     ]
    }
   ],
   "source": [
    "# Using for loop and if clause:\n",
    "\n",
    "input_str=input(\"Enter the string: \")\n",
    "frequency={}\n",
    "for char in input_str:\n",
    "    if char in frequency:\n",
    "        frequency[char]+=1\n",
    "    else:\n",
    "        frequency[char]=1\n",
    "print(\"*************************************************************\")\n",
    "print(\"Frequency of character in '{}' is: \\n {}\".format(input_str,str(frequency)))"
   ]
  }
 ],
 "metadata": {
  "kernelspec": {
   "display_name": "Python 3",
   "language": "python",
   "name": "python3"
  },
  "language_info": {
   "codemirror_mode": {
    "name": "ipython",
    "version": 3
   },
   "file_extension": ".py",
   "mimetype": "text/x-python",
   "name": "python",
   "nbconvert_exporter": "python",
   "pygments_lexer": "ipython3",
   "version": "3.7.6"
  }
 },
 "nbformat": 4,
 "nbformat_minor": 4
}
